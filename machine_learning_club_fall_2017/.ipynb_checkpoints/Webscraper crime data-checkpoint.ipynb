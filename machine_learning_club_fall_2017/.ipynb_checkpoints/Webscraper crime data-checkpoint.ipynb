{
 "cells": [
  {
   "cell_type": "markdown",
   "metadata": {
    "_cell_guid": "bb6b6632-06fb-4b9b-9abc-58b3137678fc",
    "_uuid": "08a1f3ed8160adc1c0a9e2e92f9f1fbf6572c45c"
   },
   "source": [
    "Importing necessary libraries."
   ]
  },
  {
   "cell_type": "code",
   "execution_count": 7,
   "metadata": {
    "_cell_guid": "2d9b4562-adf7-47ea-885f-4444626d8fe4",
    "_uuid": "216cd048168e448ad1024c6220052570cba4385d",
    "collapsed": false
   },
   "outputs": [],
   "source": [
    "from urllib.request import urlopen\n",
    "from bs4 import BeautifulSoup\n",
    "import pandas as pd\n",
    "import html5lib"
   ]
  },
  {
   "cell_type": "code",
   "execution_count": 8,
   "metadata": {
    "_cell_guid": "9d31acde-874f-4140-a746-7f02a3d6e37f",
    "_uuid": "80210f0eeafe6ccb31ce5eb90a68142bd34657ea",
    "collapsed": true
   },
   "outputs": [],
   "source": [
    "#Grabbing our URL and opening it for analysis of HTML\n",
    "url = \"https://en.wikipedia.org/wiki/Crime_in_the_United_States\"\n",
    "html = urlopen(url)\n",
    "\n",
    "#Allows us to pull HTML data for Python use\n",
    "soup = BeautifulSoup(html, 'html.parser')"
   ]
  },
  {
   "cell_type": "markdown",
   "metadata": {
    "_cell_guid": "7be568b4-ba85-4447-8a93-c23541968b0f",
    "_uuid": "33e7ba7f4c9f80429b27d4004d2b509be4652be4"
   },
   "source": [
    "We create a list in which all the elements are table headers from the html. The relevant th's are those indexed 12-17. We enter the element and use getText method extract the text. "
   ]
  },
  {
   "cell_type": "code",
   "execution_count": 9,
   "metadata": {
    "_cell_guid": "977c00d9-8345-4937-b364-4837fec1de1d",
    "_uuid": "3040842efa2790f65c17e74593c6d746e49af762",
    "collapsed": false
   },
   "outputs": [
    {
     "data": {
      "text/plain": [
       "['Year',\n",
       " 'Violent crime',\n",
       " 'Murder and non-negligent\\nmanslaughter',\n",
       " 'Rape',\n",
       " 'Robbery',\n",
       " 'Aggravated\\nassault']"
      ]
     },
     "execution_count": 9,
     "metadata": {},
     "output_type": "execute_result"
    }
   ],
   "source": [
    "column_headers = [soup.findAll('th')[i].getText() for i in range (12,18)]\n",
    "column_headers"
   ]
  },
  {
   "cell_type": "markdown",
   "metadata": {
    "_cell_guid": "b3ae74d5-061b-47e1-a5f3-7d42f32f5d8b",
    "_uuid": "45790aa4c9731fa4588b3a2aeba0940057830c11"
   },
   "source": [
    "We grab all the table rows and slice from them the relevant ones. Slicing is supported because soup.findAll('tr') returns a list"
   ]
  },
  {
   "cell_type": "code",
   "execution_count": 10,
   "metadata": {
    "_cell_guid": "b4b175db-2488-4491-bc4d-cbd8c2f85f20",
    "_uuid": "67c78d573f2bb652c8a8cc47867fb70b4679f3f1",
    "collapsed": false
   },
   "outputs": [],
   "source": [
    "row_data = soup.findAll('tr')[15:71]"
   ]
  },
  {
   "cell_type": "code",
   "execution_count": 11,
   "metadata": {
    "_cell_guid": "1c4d63eb-18b8-47fb-8949-784062876cfe",
    "_uuid": "9d68982f11578e5b2c9043ad20178e1f0cc6351d",
    "collapsed": false
   },
   "outputs": [
    {
     "data": {
      "text/plain": [
       "list"
      ]
     },
     "execution_count": 11,
     "metadata": {},
     "output_type": "execute_result"
    }
   ],
   "source": [
    "type(row_data)"
   ]
  },
  {
   "cell_type": "code",
   "execution_count": 12,
   "metadata": {
    "_cell_guid": "06477e1e-c662-4d57-ba3a-5e251880daf0",
    "_uuid": "b80a1e77a0662a44bc30dc5364cc9abfe5714f41",
    "collapsed": false
   },
   "outputs": [
    {
     "data": {
      "text/plain": [
       "[<tr>\n",
       " <td>1960</td>\n",
       " <td>160.9</td>\n",
       " <td>5.1</td>\n",
       " <td>9.6</td>\n",
       " <td>60.1</td>\n",
       " <td>86.1</td>\n",
       " </tr>, <tr>\n",
       " <td>1961</td>\n",
       " <td>158.1</td>\n",
       " <td>4.8</td>\n",
       " <td>9.4</td>\n",
       " <td>58.3</td>\n",
       " <td>85.7</td>\n",
       " </tr>, <tr>\n",
       " <td>1962</td>\n",
       " <td>162.3</td>\n",
       " <td>4.6</td>\n",
       " <td>9.4</td>\n",
       " <td>59.7</td>\n",
       " <td>88.6</td>\n",
       " </tr>, <tr>\n",
       " <td>1963</td>\n",
       " <td>168.2</td>\n",
       " <td>4.6</td>\n",
       " <td>9.4</td>\n",
       " <td>61.8</td>\n",
       " <td>92.4</td>\n",
       " </tr>, <tr>\n",
       " <td>1964</td>\n",
       " <td>190.6</td>\n",
       " <td>4.9</td>\n",
       " <td>11.2</td>\n",
       " <td>68.2</td>\n",
       " <td>106.2</td>\n",
       " </tr>, <tr>\n",
       " <td>1965</td>\n",
       " <td>200.2</td>\n",
       " <td>5.1</td>\n",
       " <td>12.1</td>\n",
       " <td>71.7</td>\n",
       " <td>111.3</td>\n",
       " </tr>, <tr>\n",
       " <td>1966</td>\n",
       " <td>220.0</td>\n",
       " <td>5.6</td>\n",
       " <td>13.2</td>\n",
       " <td>80.8</td>\n",
       " <td>120.3</td>\n",
       " </tr>, <tr>\n",
       " <td>1967</td>\n",
       " <td>253.2</td>\n",
       " <td>6.2</td>\n",
       " <td>14.0</td>\n",
       " <td>102.8</td>\n",
       " <td>130.2</td>\n",
       " </tr>, <tr>\n",
       " <td>1968</td>\n",
       " <td>298.4</td>\n",
       " <td>6.9</td>\n",
       " <td>15.9</td>\n",
       " <td>131.8</td>\n",
       " <td>143.8</td>\n",
       " </tr>, <tr>\n",
       " <td>1969</td>\n",
       " <td>328.7</td>\n",
       " <td>7.3</td>\n",
       " <td>18.5</td>\n",
       " <td>148.4</td>\n",
       " <td>154.5</td>\n",
       " </tr>, <tr>\n",
       " <td>1970</td>\n",
       " <td>363.5</td>\n",
       " <td>7.9</td>\n",
       " <td>18.7</td>\n",
       " <td>172.1</td>\n",
       " <td>164.8</td>\n",
       " </tr>, <tr>\n",
       " <td>1971</td>\n",
       " <td>396.0</td>\n",
       " <td>8.6</td>\n",
       " <td>20.5</td>\n",
       " <td>188.0</td>\n",
       " <td>178.8</td>\n",
       " </tr>, <tr>\n",
       " <td>1972</td>\n",
       " <td>401.0</td>\n",
       " <td>9.0</td>\n",
       " <td>22.5</td>\n",
       " <td>180.7</td>\n",
       " <td>188.8</td>\n",
       " </tr>, <tr>\n",
       " <td>1973</td>\n",
       " <td>417.4</td>\n",
       " <td>9.4</td>\n",
       " <td>24.5</td>\n",
       " <td>183.1</td>\n",
       " <td>200.5</td>\n",
       " </tr>, <tr>\n",
       " <td>1974</td>\n",
       " <td>461.1</td>\n",
       " <td>9.8</td>\n",
       " <td>26.2</td>\n",
       " <td>209.3</td>\n",
       " <td>215.8</td>\n",
       " </tr>, <tr>\n",
       " <td>1975</td>\n",
       " <td>487.8</td>\n",
       " <td>9.6</td>\n",
       " <td>26.3</td>\n",
       " <td>220.8</td>\n",
       " <td>231.1</td>\n",
       " </tr>, <tr>\n",
       " <td>1976</td>\n",
       " <td>467.8</td>\n",
       " <td>8.7</td>\n",
       " <td>26.6</td>\n",
       " <td>199.3</td>\n",
       " <td>233.2</td>\n",
       " </tr>, <tr>\n",
       " <td>1977</td>\n",
       " <td>475.9</td>\n",
       " <td>8.8</td>\n",
       " <td>29.4</td>\n",
       " <td>190.7</td>\n",
       " <td>247.0</td>\n",
       " </tr>, <tr>\n",
       " <td>1978</td>\n",
       " <td>497.8</td>\n",
       " <td>9.0</td>\n",
       " <td>31.0</td>\n",
       " <td>195.8</td>\n",
       " <td>262.1</td>\n",
       " </tr>, <tr>\n",
       " <td>1979</td>\n",
       " <td>548.9</td>\n",
       " <td>9.8</td>\n",
       " <td>34.7</td>\n",
       " <td>218.4</td>\n",
       " <td>286.0</td>\n",
       " </tr>, <tr>\n",
       " <td>1980</td>\n",
       " <td>596.6</td>\n",
       " <td>10.2</td>\n",
       " <td>36.8</td>\n",
       " <td>251.1</td>\n",
       " <td>298.5</td>\n",
       " </tr>, <tr>\n",
       " <td>1981</td>\n",
       " <td>594.3</td>\n",
       " <td>9.8</td>\n",
       " <td>36.0</td>\n",
       " <td>258.4</td>\n",
       " <td>289.3</td>\n",
       " </tr>, <tr>\n",
       " <td>1982</td>\n",
       " <td>570.8</td>\n",
       " <td>9.1</td>\n",
       " <td>34.0</td>\n",
       " <td>238.8</td>\n",
       " <td>289.0</td>\n",
       " </tr>, <tr>\n",
       " <td>1983</td>\n",
       " <td>537.7</td>\n",
       " <td>8.3</td>\n",
       " <td>33.8</td>\n",
       " <td>216.7</td>\n",
       " <td>279.4</td>\n",
       " </tr>, <tr>\n",
       " <td>1984</td>\n",
       " <td>539.9</td>\n",
       " <td>7.9</td>\n",
       " <td>35.7</td>\n",
       " <td>205.7</td>\n",
       " <td>290.6</td>\n",
       " </tr>, <tr>\n",
       " <td>1985</td>\n",
       " <td>556.6</td>\n",
       " <td>8.0</td>\n",
       " <td>36.8</td>\n",
       " <td>209.3</td>\n",
       " <td>304.0</td>\n",
       " </tr>, <tr>\n",
       " <td>1986</td>\n",
       " <td>620.1</td>\n",
       " <td>8.6</td>\n",
       " <td>38.1</td>\n",
       " <td>226.0</td>\n",
       " <td>347.4</td>\n",
       " </tr>, <tr>\n",
       " <td>1987</td>\n",
       " <td>612.5</td>\n",
       " <td>8.3</td>\n",
       " <td>37.6</td>\n",
       " <td>213.7</td>\n",
       " <td>352.9</td>\n",
       " </tr>, <tr>\n",
       " <td>1988</td>\n",
       " <td>640.6</td>\n",
       " <td>8.5</td>\n",
       " <td>37.8</td>\n",
       " <td>222.1</td>\n",
       " <td>372.2</td>\n",
       " </tr>, <tr>\n",
       " <td>1989</td>\n",
       " <td>666.9</td>\n",
       " <td>8.7</td>\n",
       " <td>38.3</td>\n",
       " <td>234.3</td>\n",
       " <td>385.6</td>\n",
       " </tr>, <tr>\n",
       " <td>1990</td>\n",
       " <td>729.6</td>\n",
       " <td>9.4</td>\n",
       " <td>41.1</td>\n",
       " <td>256.3</td>\n",
       " <td>422.9</td>\n",
       " </tr>, <tr>\n",
       " <td>1991</td>\n",
       " <td>758.2</td>\n",
       " <td>9.8</td>\n",
       " <td>42.3</td>\n",
       " <td>272.7</td>\n",
       " <td>433.4</td>\n",
       " </tr>, <tr>\n",
       " <td>1992</td>\n",
       " <td>757.7</td>\n",
       " <td>9.3</td>\n",
       " <td>42.8</td>\n",
       " <td>263.7</td>\n",
       " <td>441.9</td>\n",
       " </tr>, <tr>\n",
       " <td>1993</td>\n",
       " <td>747.1</td>\n",
       " <td>9.5</td>\n",
       " <td>41.1</td>\n",
       " <td>256.0</td>\n",
       " <td>440.5</td>\n",
       " </tr>, <tr>\n",
       " <td>1994</td>\n",
       " <td>713.6</td>\n",
       " <td>9.0</td>\n",
       " <td>39.3</td>\n",
       " <td>237.8</td>\n",
       " <td>427.6</td>\n",
       " </tr>, <tr>\n",
       " <td>1995</td>\n",
       " <td>684.5</td>\n",
       " <td>8.2</td>\n",
       " <td>37.1</td>\n",
       " <td>220.9</td>\n",
       " <td>418.3</td>\n",
       " </tr>, <tr>\n",
       " <td>1996</td>\n",
       " <td>636.6</td>\n",
       " <td>7.4</td>\n",
       " <td>36.3</td>\n",
       " <td>201.9</td>\n",
       " <td>391.0</td>\n",
       " </tr>, <tr>\n",
       " <td>1997</td>\n",
       " <td>611.0</td>\n",
       " <td>6.8</td>\n",
       " <td>35.9</td>\n",
       " <td>186.2</td>\n",
       " <td>382.1</td>\n",
       " </tr>, <tr>\n",
       " <td>1998</td>\n",
       " <td>567.6</td>\n",
       " <td>6.3</td>\n",
       " <td>34.5</td>\n",
       " <td>165.5</td>\n",
       " <td>361.4</td>\n",
       " </tr>, <tr>\n",
       " <td>1999</td>\n",
       " <td>523.0</td>\n",
       " <td>5.7</td>\n",
       " <td>32.8</td>\n",
       " <td>150.1</td>\n",
       " <td>334.3</td>\n",
       " </tr>, <tr>\n",
       " <td>2000</td>\n",
       " <td>506.5</td>\n",
       " <td>5.5</td>\n",
       " <td>32.0</td>\n",
       " <td>145.0</td>\n",
       " <td>324.0</td>\n",
       " </tr>, <tr>\n",
       " <td>2001</td>\n",
       " <td>504.5</td>\n",
       " <td>5.6</td>\n",
       " <td>31.8</td>\n",
       " <td>148.5</td>\n",
       " <td>318.6</td>\n",
       " </tr>, <tr>\n",
       " <td>2002</td>\n",
       " <td>494.4</td>\n",
       " <td>5.6</td>\n",
       " <td>33.1</td>\n",
       " <td>146.1</td>\n",
       " <td>309.5</td>\n",
       " </tr>, <tr>\n",
       " <td>2003</td>\n",
       " <td>475.8</td>\n",
       " <td>5.7</td>\n",
       " <td>32.3</td>\n",
       " <td>142.5</td>\n",
       " <td>295.4</td>\n",
       " </tr>, <tr>\n",
       " <td>2004</td>\n",
       " <td>463.2</td>\n",
       " <td>5.5</td>\n",
       " <td>32.4</td>\n",
       " <td>136.7</td>\n",
       " <td>288.6</td>\n",
       " </tr>, <tr>\n",
       " <td>2005</td>\n",
       " <td>469.0</td>\n",
       " <td>5.6</td>\n",
       " <td>31.8</td>\n",
       " <td>140.8</td>\n",
       " <td>290.8</td>\n",
       " </tr>, <tr>\n",
       " <td>2006</td>\n",
       " <td>473.6</td>\n",
       " <td>5.8</td>\n",
       " <td>31.6</td>\n",
       " <td>150.0</td>\n",
       " <td>292.0</td>\n",
       " </tr>, <tr>\n",
       " <td>2007</td>\n",
       " <td>471.8</td>\n",
       " <td>5.7</td>\n",
       " <td>30.6</td>\n",
       " <td>148.3</td>\n",
       " <td>287.2</td>\n",
       " </tr>, <tr>\n",
       " <td>2008</td>\n",
       " <td>458.6</td>\n",
       " <td>5.4</td>\n",
       " <td>29.8</td>\n",
       " <td>145.9</td>\n",
       " <td>277.5</td>\n",
       " </tr>, <tr>\n",
       " <td>2009</td>\n",
       " <td>431.9</td>\n",
       " <td>5.0</td>\n",
       " <td>29.1</td>\n",
       " <td>133.1</td>\n",
       " <td>264.7</td>\n",
       " </tr>, <tr>\n",
       " <td>2010</td>\n",
       " <td>404.5</td>\n",
       " <td>4.8</td>\n",
       " <td>27.7</td>\n",
       " <td>119.3</td>\n",
       " <td>252.8</td>\n",
       " </tr>, <tr>\n",
       " <td>2011</td>\n",
       " <td>387.1</td>\n",
       " <td>4.7</td>\n",
       " <td>27.0</td>\n",
       " <td>113.9</td>\n",
       " <td>241.5</td>\n",
       " </tr>, <tr>\n",
       " <td>2012</td>\n",
       " <td>386.9</td>\n",
       " <td>4.7</td>\n",
       " <td>26.9</td>\n",
       " <td>112.9</td>\n",
       " <td>242.3</td>\n",
       " </tr>, <tr>\n",
       " <td>2013</td>\n",
       " <td>369.1</td>\n",
       " <td>4.5</td>\n",
       " <td>25.9</td>\n",
       " <td>109.0</td>\n",
       " <td>229.6</td>\n",
       " </tr>, <tr>\n",
       " <td>2014</td>\n",
       " <td>361.1</td>\n",
       " <td>4.4</td>\n",
       " <td>26.6</td>\n",
       " <td>101.3</td>\n",
       " <td>229.2</td>\n",
       " </tr>, <tr>\n",
       " <td>2015</td>\n",
       " <td>372.6</td>\n",
       " <td>4.9</td>\n",
       " <td>28.1</td>\n",
       " <td>101.9</td>\n",
       " <td>237.8</td>\n",
       " </tr>]"
      ]
     },
     "execution_count": 12,
     "metadata": {},
     "output_type": "execute_result"
    }
   ],
   "source": [
    "row_data"
   ]
  },
  {
   "cell_type": "markdown",
   "metadata": {
    "_cell_guid": "928d901c-2433-4356-955c-c4287e20c8ca",
    "_uuid": "57e0a676f4c225c2a567720ed8d9b02ded099021"
   },
   "source": [
    "We saw that each table row has 6 table data elements in it. We put all the table data into a 2 dimensional list. Then we turn the nested list into a data frame using the column_headers list as titles for the columns. "
   ]
  },
  {
   "cell_type": "code",
   "execution_count": 13,
   "metadata": {
    "_cell_guid": "ed5d641b-fe57-4183-a1fa-897eff1ada99",
    "_uuid": "51ec15fa44d8f4010b0a79b2f3a5700723981b75",
    "collapsed": true
   },
   "outputs": [],
   "source": [
    "data_list= []\n",
    "for i in range(len(row_data)):\n",
    "    row=[]\n",
    "    for td in row_data[i].findAll('td'):\n",
    "        row.append(td.getText())\n",
    "    data_list.append(row)\n",
    "    \n",
    "df= pd.DataFrame(data_list, columns=column_headers)\n",
    "\n",
    "    "
   ]
  },
  {
   "cell_type": "code",
   "execution_count": 14,
   "metadata": {
    "_cell_guid": "cf7460c6-e7e4-4a46-b3d5-734c50b7813c",
    "_uuid": "5af16fe9d316c7deecf6091f2dbac03def6164e6",
    "collapsed": false
   },
   "outputs": [
    {
     "data": {
      "text/html": [
       "<div>\n",
       "<style>\n",
       "    .dataframe thead tr:only-child th {\n",
       "        text-align: right;\n",
       "    }\n",
       "\n",
       "    .dataframe thead th {\n",
       "        text-align: left;\n",
       "    }\n",
       "\n",
       "    .dataframe tbody tr th {\n",
       "        vertical-align: top;\n",
       "    }\n",
       "</style>\n",
       "<table border=\"1\" class=\"dataframe\">\n",
       "  <thead>\n",
       "    <tr style=\"text-align: right;\">\n",
       "      <th></th>\n",
       "      <th>Year</th>\n",
       "      <th>Violent crime</th>\n",
       "      <th>Murder and non-negligent\n",
       "manslaughter</th>\n",
       "      <th>Rape</th>\n",
       "      <th>Robbery</th>\n",
       "      <th>Aggravated\n",
       "assault</th>\n",
       "    </tr>\n",
       "  </thead>\n",
       "  <tbody>\n",
       "    <tr>\n",
       "      <th>0</th>\n",
       "      <td>1960</td>\n",
       "      <td>160.9</td>\n",
       "      <td>5.1</td>\n",
       "      <td>9.6</td>\n",
       "      <td>60.1</td>\n",
       "      <td>86.1</td>\n",
       "    </tr>\n",
       "    <tr>\n",
       "      <th>1</th>\n",
       "      <td>1961</td>\n",
       "      <td>158.1</td>\n",
       "      <td>4.8</td>\n",
       "      <td>9.4</td>\n",
       "      <td>58.3</td>\n",
       "      <td>85.7</td>\n",
       "    </tr>\n",
       "    <tr>\n",
       "      <th>2</th>\n",
       "      <td>1962</td>\n",
       "      <td>162.3</td>\n",
       "      <td>4.6</td>\n",
       "      <td>9.4</td>\n",
       "      <td>59.7</td>\n",
       "      <td>88.6</td>\n",
       "    </tr>\n",
       "    <tr>\n",
       "      <th>3</th>\n",
       "      <td>1963</td>\n",
       "      <td>168.2</td>\n",
       "      <td>4.6</td>\n",
       "      <td>9.4</td>\n",
       "      <td>61.8</td>\n",
       "      <td>92.4</td>\n",
       "    </tr>\n",
       "    <tr>\n",
       "      <th>4</th>\n",
       "      <td>1964</td>\n",
       "      <td>190.6</td>\n",
       "      <td>4.9</td>\n",
       "      <td>11.2</td>\n",
       "      <td>68.2</td>\n",
       "      <td>106.2</td>\n",
       "    </tr>\n",
       "  </tbody>\n",
       "</table>\n",
       "</div>"
      ],
      "text/plain": [
       "   Year Violent crime Murder and non-negligent\\nmanslaughter  Rape Robbery  \\\n",
       "0  1960         160.9                                    5.1   9.6    60.1   \n",
       "1  1961         158.1                                    4.8   9.4    58.3   \n",
       "2  1962         162.3                                    4.6   9.4    59.7   \n",
       "3  1963         168.2                                    4.6   9.4    61.8   \n",
       "4  1964         190.6                                    4.9  11.2    68.2   \n",
       "\n",
       "  Aggravated\\nassault  \n",
       "0                86.1  \n",
       "1                85.7  \n",
       "2                88.6  \n",
       "3                92.4  \n",
       "4               106.2  "
      ]
     },
     "execution_count": 14,
     "metadata": {},
     "output_type": "execute_result"
    }
   ],
   "source": [
    "df.head()"
   ]
  },
  {
   "cell_type": "code",
   "execution_count": 15,
   "metadata": {
    "_cell_guid": "97e3d62c-eeda-4e63-b462-b8c613a9c316",
    "_uuid": "cdc347f1d21b9d72e198a94cd7232c84e6c47317",
    "collapsed": false
   },
   "outputs": [
    {
     "data": {
      "text/html": [
       "<div>\n",
       "<style>\n",
       "    .dataframe thead tr:only-child th {\n",
       "        text-align: right;\n",
       "    }\n",
       "\n",
       "    .dataframe thead th {\n",
       "        text-align: left;\n",
       "    }\n",
       "\n",
       "    .dataframe tbody tr th {\n",
       "        vertical-align: top;\n",
       "    }\n",
       "</style>\n",
       "<table border=\"1\" class=\"dataframe\">\n",
       "  <thead>\n",
       "    <tr style=\"text-align: right;\">\n",
       "      <th></th>\n",
       "      <th>Year</th>\n",
       "      <th>Violent crime</th>\n",
       "      <th>Murder and non-negligent\n",
       "manslaughter</th>\n",
       "      <th>Rape</th>\n",
       "      <th>Robbery</th>\n",
       "      <th>Aggravated\n",
       "assault</th>\n",
       "    </tr>\n",
       "  </thead>\n",
       "  <tbody>\n",
       "    <tr>\n",
       "      <th>51</th>\n",
       "      <td>2011</td>\n",
       "      <td>387.1</td>\n",
       "      <td>4.7</td>\n",
       "      <td>27.0</td>\n",
       "      <td>113.9</td>\n",
       "      <td>241.5</td>\n",
       "    </tr>\n",
       "    <tr>\n",
       "      <th>52</th>\n",
       "      <td>2012</td>\n",
       "      <td>386.9</td>\n",
       "      <td>4.7</td>\n",
       "      <td>26.9</td>\n",
       "      <td>112.9</td>\n",
       "      <td>242.3</td>\n",
       "    </tr>\n",
       "    <tr>\n",
       "      <th>53</th>\n",
       "      <td>2013</td>\n",
       "      <td>369.1</td>\n",
       "      <td>4.5</td>\n",
       "      <td>25.9</td>\n",
       "      <td>109.0</td>\n",
       "      <td>229.6</td>\n",
       "    </tr>\n",
       "    <tr>\n",
       "      <th>54</th>\n",
       "      <td>2014</td>\n",
       "      <td>361.1</td>\n",
       "      <td>4.4</td>\n",
       "      <td>26.6</td>\n",
       "      <td>101.3</td>\n",
       "      <td>229.2</td>\n",
       "    </tr>\n",
       "    <tr>\n",
       "      <th>55</th>\n",
       "      <td>2015</td>\n",
       "      <td>372.6</td>\n",
       "      <td>4.9</td>\n",
       "      <td>28.1</td>\n",
       "      <td>101.9</td>\n",
       "      <td>237.8</td>\n",
       "    </tr>\n",
       "  </tbody>\n",
       "</table>\n",
       "</div>"
      ],
      "text/plain": [
       "    Year Violent crime Murder and non-negligent\\nmanslaughter  Rape Robbery  \\\n",
       "51  2011         387.1                                    4.7  27.0   113.9   \n",
       "52  2012         386.9                                    4.7  26.9   112.9   \n",
       "53  2013         369.1                                    4.5  25.9   109.0   \n",
       "54  2014         361.1                                    4.4  26.6   101.3   \n",
       "55  2015         372.6                                    4.9  28.1   101.9   \n",
       "\n",
       "   Aggravated\\nassault  \n",
       "51               241.5  \n",
       "52               242.3  \n",
       "53               229.6  \n",
       "54               229.2  \n",
       "55               237.8  "
      ]
     },
     "execution_count": 15,
     "metadata": {},
     "output_type": "execute_result"
    }
   ],
   "source": [
    "df.tail()"
   ]
  },
  {
   "cell_type": "code",
   "execution_count": 16,
   "metadata": {
    "_cell_guid": "13dfe418-cf53-4dfc-8efc-bfb7aaa28153",
    "_uuid": "ec3ae56611a16183772365d55062f262a36bb008",
    "collapsed": false
   },
   "outputs": [
    {
     "name": "stdout",
     "output_type": "stream",
     "text": [
      "<class 'pandas.core.frame.DataFrame'>\n",
      "RangeIndex: 56 entries, 0 to 55\n",
      "Data columns (total 6 columns):\n",
      "Year                                     56 non-null object\n",
      "Violent crime                            56 non-null object\n",
      "Murder and non-negligent\n",
      "manslaughter    56 non-null object\n",
      "Rape                                     56 non-null object\n",
      "Robbery                                  56 non-null object\n",
      "Aggravated\n",
      "assault                       56 non-null object\n",
      "dtypes: object(6)\n",
      "memory usage: 2.7+ KB\n"
     ]
    }
   ],
   "source": [
    "df.info()"
   ]
  },
  {
   "cell_type": "markdown",
   "metadata": {
    "_cell_guid": "79bfbdf7-99ab-488b-9c72-a11819b33dee",
    "_uuid": "2992ca1724d992cc908d905de7c3e24134747253"
   },
   "source": [
    "No missing data, but the data types are strings"
   ]
  },
  {
   "cell_type": "code",
   "execution_count": 17,
   "metadata": {
    "_cell_guid": "5b693d27-2e33-492e-bcc6-d2cf8e3d8c0c",
    "_uuid": "a605753323c1d0d35a172bfab1b1f76ad788932f",
    "collapsed": false
   },
   "outputs": [
    {
     "name": "stdout",
     "output_type": "stream",
     "text": [
      "<class 'str'>\n",
      "<class 'str'>\n"
     ]
    }
   ],
   "source": [
    "print(type(df[\"Year\"][0]))\n",
    "print(type(df[\"Rape\"][0]))"
   ]
  },
  {
   "cell_type": "code",
   "execution_count": 18,
   "metadata": {
    "_cell_guid": "e7b5c51c-4f01-4333-92bb-2b1dc931f139",
    "_uuid": "72fb8d49b659ed91af8c503c11100977bb3b066a",
    "collapsed": false
   },
   "outputs": [
    {
     "data": {
      "text/plain": [
       "'1960'"
      ]
     },
     "execution_count": 18,
     "metadata": {},
     "output_type": "execute_result"
    }
   ],
   "source": [
    "df[\"Year\"][0]"
   ]
  },
  {
   "cell_type": "markdown",
   "metadata": {
    "_cell_guid": "954aa37c-cee3-42f4-b77a-cda4e227c082",
    "_uuid": "3e971ede545349ce84ae3bbd84044a268d117990"
   },
   "source": [
    "Change type of all data frame elements to numeric. "
   ]
  },
  {
   "cell_type": "code",
   "execution_count": 19,
   "metadata": {
    "_cell_guid": "7f25af0e-2684-41e2-af9b-4fb7736e0b74",
    "_uuid": "20bd0a797b7eee9dcfd50db0903951d8f7e3e4ca",
    "collapsed": true
   },
   "outputs": [],
   "source": [
    "df2 = df.apply(pd.to_numeric)"
   ]
  },
  {
   "cell_type": "code",
   "execution_count": 20,
   "metadata": {
    "_cell_guid": "541ac3e1-b3b4-4cdc-b497-147a8fab4082",
    "_uuid": "3119d472b08a57093f85a823655b5121ea6cc990",
    "collapsed": false
   },
   "outputs": [
    {
     "data": {
      "text/plain": [
       "1963"
      ]
     },
     "execution_count": 20,
     "metadata": {},
     "output_type": "execute_result"
    }
   ],
   "source": [
    "df2[\"Year\"][3]"
   ]
  },
  {
   "cell_type": "code",
   "execution_count": 21,
   "metadata": {
    "_cell_guid": "f5b7e816-c75f-4946-a5d0-b6abd82bcae0",
    "_uuid": "9e656d54845efeb113051f7f6ef83103ae0a9fcb",
    "collapsed": false
   },
   "outputs": [
    {
     "data": {
      "text/plain": [
       "numpy.int64"
      ]
     },
     "execution_count": 21,
     "metadata": {},
     "output_type": "execute_result"
    }
   ],
   "source": [
    "type(df2[\"Year\"][3])\n"
   ]
  },
  {
   "cell_type": "code",
   "execution_count": 22,
   "metadata": {
    "_cell_guid": "ace439ea-9659-4cb1-a122-314b06d7dad6",
    "_uuid": "4e1aa44bbe8b8d747261ed245c84a9009c67bfb9",
    "collapsed": false
   },
   "outputs": [
    {
     "data": {
      "text/plain": [
       "numpy.float64"
      ]
     },
     "execution_count": 22,
     "metadata": {},
     "output_type": "execute_result"
    }
   ],
   "source": [
    "type(df2[\"Rape\"][7])"
   ]
  },
  {
   "cell_type": "code",
   "execution_count": null,
   "metadata": {
    "_cell_guid": "80dca4c6-e1a4-4baf-8abc-2e35767d8fbf",
    "_uuid": "539e07833e2f0263b1f9d4111094b370e6624033",
    "collapsed": true
   },
   "outputs": [],
   "source": []
  },
  {
   "cell_type": "code",
   "execution_count": null,
   "metadata": {
    "collapsed": true
   },
   "outputs": [],
   "source": []
  }
 ],
 "metadata": {
  "kernelspec": {
   "display_name": "Python [conda env:p_3.5]",
   "language": "python",
   "name": "conda-env-p_3.5-py"
  },
  "language_info": {
   "codemirror_mode": {
    "name": "ipython",
    "version": 3
   },
   "file_extension": ".py",
   "mimetype": "text/x-python",
   "name": "python",
   "nbconvert_exporter": "python",
   "pygments_lexer": "ipython3",
   "version": "3.5.3"
  }
 },
 "nbformat": 4,
 "nbformat_minor": 1
}
