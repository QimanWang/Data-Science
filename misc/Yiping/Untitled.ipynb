{
 "cells": [
  {
   "cell_type": "code",
   "execution_count": 1,
   "metadata": {
    "collapsed": false
   },
   "outputs": [
    {
     "ename": "ImportError",
     "evalue": "No module named 'ggplot'",
     "output_type": "error",
     "traceback": [
      "\u001b[1;31m---------------------------------------------------------------------------\u001b[0m",
      "\u001b[1;31mImportError\u001b[0m                               Traceback (most recent call last)",
      "\u001b[1;32m<ipython-input-1-d13b91405b15>\u001b[0m in \u001b[0;36m<module>\u001b[1;34m()\u001b[0m\n\u001b[0;32m      7\u001b[0m \u001b[1;32mfrom\u001b[0m \u001b[0msklearn\u001b[0m \u001b[1;32mimport\u001b[0m \u001b[0mmetrics\u001b[0m\u001b[1;33m\u001b[0m\u001b[0m\n\u001b[0;32m      8\u001b[0m \u001b[1;32mimport\u001b[0m \u001b[0mpandas\u001b[0m \u001b[1;32mas\u001b[0m \u001b[0mpd\u001b[0m\u001b[1;33m\u001b[0m\u001b[0m\n\u001b[1;32m----> 9\u001b[1;33m \u001b[1;32mfrom\u001b[0m \u001b[0mggplot\u001b[0m \u001b[1;32mimport\u001b[0m \u001b[1;33m*\u001b[0m\u001b[1;33m\u001b[0m\u001b[0m\n\u001b[0m",
      "\u001b[1;31mImportError\u001b[0m: No module named 'ggplot'"
     ]
    }
   ],
   "source": [
    "import numpy as np\n",
    "import pandas as pd\n",
    "import xlsxwriter\n",
    "import math\n",
    "import os\n",
    "from sklearn.linear_model import LogisticRegression\n",
    "from sklearn import metrics\n",
    "import pandas as pd\n",
    "from ggplot import *"
   ]
  },
  {
   "cell_type": "code",
   "execution_count": 2,
   "metadata": {
    "collapsed": false
   },
   "outputs": [
    {
     "name": "stdout",
     "output_type": "stream",
     "text": [
      "for bob wang 9-16-2017.xlsx\n"
     ]
    }
   ],
   "source": [
    "file = \"\"\n",
    "files = [f for f in os.listdir('.') if os.path.isfile(f)]\n",
    "\n",
    "for f in files:\n",
    "    f = f.lower()\n",
    "    if \"bob\" in f :\n",
    "        file = f \n",
    "\n",
    "msg = \"\"+ file\n",
    "print(msg)"
   ]
  },
  {
   "cell_type": "code",
   "execution_count": null,
   "metadata": {
    "collapsed": false
   },
   "outputs": [],
   "source": [
    "def create_ary(df, col_name, label):\n",
    "    data_list = []\n",
    "    label_list = []\n",
    "    for index, row in df.iterrows():\n",
    "        # print(str(row[col_name]))\n",
    "        # print(str(row[col_name]) == 'empty')\n",
    "        if str(row[col_name]) == 'empty':\n",
    "            print('foundNAN')\n",
    "            break\n",
    "        else:\n",
    "            data_list.append(row[col_name])\n",
    "            label_list.append(label)\n",
    "    return data_list, label_list\n"
   ]
  },
  {
   "cell_type": "code",
   "execution_count": null,
   "metadata": {
    "collapsed": false
   },
   "outputs": [],
   "source": [
    "xl = pd.ExcelFile(file)\n",
    "in_df = xl.parse()\n",
    "in_df = in_df.fillna(value='empty')\n",
    "col_names = list(in_df)\n",
    "print(col_names)"
   ]
  },
  {
   "cell_type": "code",
   "execution_count": null,
   "metadata": {
    "collapsed": false
   },
   "outputs": [],
   "source": [
    "label = 0\n",
    "big_dump = []\n",
    "for col in col_names:\n",
    "    # print(in_df[in_df.columns[0]])\n",
    "    data_list, label_list = create_ary(in_df, col, label)\n",
    "    label += 1\n",
    "    big_dump.append(data_list)\n",
    "    big_dump.append(label_list)"
   ]
  },
  {
   "cell_type": "code",
   "execution_count": null,
   "metadata": {
    "collapsed": false
   },
   "outputs": [],
   "source": [
    "for dump in big_dump:\n",
    "    print(dump)\n",
    "print(len(big_dump[2]))"
   ]
  },
  {
   "cell_type": "code",
   "execution_count": null,
   "metadata": {
    "collapsed": false
   },
   "outputs": [],
   "source": [
    "#make X0 before hand\n",
    "precent_train = .7\n",
    "print('before slicing',len(big_dump[0]))\n",
    "X0_idx = len(big_dump[0])*precent_train\n",
    "X0_idx=math.ceil(X0_idx)\n",
    "print('after',X0_idx)\n",
    "X0train = big_dump[0][:X0_idx]\n",
    "X0test = big_dump[0][X0_idx:]\n",
    "y0train = big_dump[1][:X0_idx]\n",
    "y0test = big_dump[1][X0_idx:]\n",
    "print(X0train)\n",
    "print(X0test)\n",
    "print(y0train)\n",
    "print(y0test)"
   ]
  },
  {
   "cell_type": "code",
   "execution_count": null,
   "metadata": {
    "collapsed": false
   },
   "outputs": [],
   "source": [
    "\n",
    "for i in range(1,(len(big_dump))//2):\n",
    "    \n",
    "    \n",
    "    print('i',i)\n",
    "    idx = 2*i\n",
    "    print('idx:',idx)\n",
    "    print('length before spliting',len(big_dump[idx]))\n",
    "    X_idx =math.ceil(len(big_dump[idx])*precent_train)\n",
    "    print('cut off idx',X_idx)\n",
    "    Xtrain = big_dump[idx][:X_idx]\n",
    "    Xtest = big_dump[idx][X_idx:]\n",
    "    ytrain = big_dump[idx+1][:X_idx]\n",
    "    ytest = big_dump[idx+1][X_idx:]\n",
    "    print('Xtrain',Xtrain)\n",
    "    print('Xtest',Xtest)\n",
    "    print('ytrain',ytrain)\n",
    "    print('ytest',ytest)\n",
    "    Xtrain_total =X0train+Xtrain\n",
    "    Xtest_total = X0test+Xtest\n",
    "    ytrain_total =y0train+ytrain\n",
    "    ytest_total = y0test+ytest\n",
    "    \n",
    "    Xtrain_total= np.asarray(Xtrain_total).reshape(-1,1)\n",
    "    Xtest_total=np.asarray(Xtest_total).reshape(-1,1)\n",
    "    ytrain_total=np.asarray(ytrain_total).reshape(-1,1)\n",
    "    ytest_total=np.asarray(ytest_total).reshape(-1,1)\n",
    "    print('Xtrain',Xtrain_total)\n",
    "    print('Xtest',Xtest_total)\n",
    "    print('ytrain',ytrain_total)\n",
    "    print('ytest',ytest_total)\n",
    "    \n",
    "    \n",
    "    #calculation time\n",
    "    clf = LogisticRegression()\n",
    "    clf.fit(Xtrain_total, ytrain_total)\n",
    "    \n",
    "    preds = clf.predict_proba(Xtest_total)[:, 1]\n",
    "    fpr, tpr, _ = metrics.roc_curve(ytest_total, preds)\n",
    "    \n",
    "    df = pd.DataFrame(dict(fpr=fpr, tpr=tpr))\n",
    "    ggplot(df, aes(x='fpr', y='tpr')) + \\\n",
    "    geom_line() + \\\n",
    "    geom_abline(linetype='dashed')\n",
    "\n"
   ]
  },
  {
   "cell_type": "code",
   "execution_count": null,
   "metadata": {
    "collapsed": true
   },
   "outputs": [],
   "source": []
  },
  {
   "cell_type": "code",
   "execution_count": null,
   "metadata": {
    "collapsed": true
   },
   "outputs": [],
   "source": []
  }
 ],
 "metadata": {
  "anaconda-cloud": {},
  "kernelspec": {
   "display_name": "Python [conda env:p_3.5]",
   "language": "python",
   "name": "conda-env-p_3.5-py"
  },
  "language_info": {
   "codemirror_mode": {
    "name": "ipython",
    "version": 3
   },
   "file_extension": ".py",
   "mimetype": "text/x-python",
   "name": "python",
   "nbconvert_exporter": "python",
   "pygments_lexer": "ipython3",
   "version": "3.5.3"
  }
 },
 "nbformat": 4,
 "nbformat_minor": 0
}
